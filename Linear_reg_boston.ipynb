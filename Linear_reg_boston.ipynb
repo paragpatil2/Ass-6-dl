{
  "nbformat": 4,
  "nbformat_minor": 0,
  "metadata": {
    "colab": {
      "provenance": []
    },
    "kernelspec": {
      "name": "python3",
      "display_name": "Python 3"
    },
    "language_info": {
      "name": "python"
    }
  },
  "cells": [
    {
      "cell_type": "code",
      "source": [
        "pip install scikit-learn==1.1.3"
      ],
      "metadata": {
        "colab": {
          "base_uri": "https://localhost:8080/"
        },
        "id": "UYaqcsbkPP4h",
        "outputId": "58588707-3963-4e10-f081-305650a407bc"
      },
      "execution_count": null,
      "outputs": [
        {
          "output_type": "stream",
          "name": "stdout",
          "text": [
            "Looking in indexes: https://pypi.org/simple, https://us-python.pkg.dev/colab-wheels/public/simple/\n",
            "Collecting scikit-learn==1.1.3\n",
            "  Downloading scikit_learn-1.1.3-cp310-cp310-manylinux_2_17_x86_64.manylinux2014_x86_64.whl (30.5 MB)\n",
            "\u001b[2K     \u001b[90m━━━━━━━━━━━━━━━━━━━━━━━━━━━━━━━━━━━━━━━━\u001b[0m \u001b[32m30.5/30.5 MB\u001b[0m \u001b[31m29.5 MB/s\u001b[0m eta \u001b[36m0:00:00\u001b[0m\n",
            "\u001b[?25hRequirement already satisfied: numpy>=1.17.3 in /usr/local/lib/python3.10/dist-packages (from scikit-learn==1.1.3) (1.22.4)\n",
            "Requirement already satisfied: scipy>=1.3.2 in /usr/local/lib/python3.10/dist-packages (from scikit-learn==1.1.3) (1.10.1)\n",
            "Requirement already satisfied: joblib>=1.0.0 in /usr/local/lib/python3.10/dist-packages (from scikit-learn==1.1.3) (1.2.0)\n",
            "Requirement already satisfied: threadpoolctl>=2.0.0 in /usr/local/lib/python3.10/dist-packages (from scikit-learn==1.1.3) (3.1.0)\n",
            "Installing collected packages: scikit-learn\n",
            "  Attempting uninstall: scikit-learn\n",
            "    Found existing installation: scikit-learn 1.2.2\n",
            "    Uninstalling scikit-learn-1.2.2:\n",
            "      Successfully uninstalled scikit-learn-1.2.2\n",
            "Successfully installed scikit-learn-1.1.3\n"
          ]
        }
      ]
    },
    {
      "cell_type": "code",
      "execution_count": null,
      "metadata": {
        "id": "wMxItNMl9cxr"
      },
      "outputs": [],
      "source": [
        "import numpy as np\n",
        "from sklearn.datasets import load_boston\n",
        "from sklearn.model_selection import train_test_split\n",
        "from sklearn.linear_model import LinearRegression\n",
        "from sklearn.metrics import mean_squared_error\n",
        "import tensorflow as tf\n",
        "from tensorflow import keras\n",
        "from sklearn.preprocessing import StandardScaler"
      ]
    },
    {
      "cell_type": "code",
      "source": [
        "boston = load_boston()\n",
        "X, y = boston.data, boston.target\n"
      ],
      "metadata": {
        "id": "9DPjRwWR-jCW"
      },
      "execution_count": null,
      "outputs": []
    },
    {
      "cell_type": "code",
      "source": [
        "X_train, X_test, y_train, y_test = train_test_split(X, y, test_size=0.2, random_state=42)"
      ],
      "metadata": {
        "id": "-AJ-zkp4-oeT"
      },
      "execution_count": null,
      "outputs": []
    },
    {
      "cell_type": "code",
      "source": [
        "linear_model = LinearRegression()"
      ],
      "metadata": {
        "id": "H_ZnAn1n-q4T"
      },
      "execution_count": null,
      "outputs": []
    },
    {
      "cell_type": "code",
      "source": [
        "linear_model.fit(X_train, y_train)\n"
      ],
      "metadata": {
        "colab": {
          "base_uri": "https://localhost:8080/",
          "height": 74
        },
        "id": "vjO54mLNQbKU",
        "outputId": "2d2a9fe6-7317-40fa-85a7-2efbc932fdef"
      },
      "execution_count": null,
      "outputs": [
        {
          "output_type": "execute_result",
          "data": {
            "text/plain": [
              "LinearRegression()"
            ],
            "text/html": [
              "<style>#sk-container-id-1 {color: black;background-color: white;}#sk-container-id-1 pre{padding: 0;}#sk-container-id-1 div.sk-toggleable {background-color: white;}#sk-container-id-1 label.sk-toggleable__label {cursor: pointer;display: block;width: 100%;margin-bottom: 0;padding: 0.3em;box-sizing: border-box;text-align: center;}#sk-container-id-1 label.sk-toggleable__label-arrow:before {content: \"▸\";float: left;margin-right: 0.25em;color: #696969;}#sk-container-id-1 label.sk-toggleable__label-arrow:hover:before {color: black;}#sk-container-id-1 div.sk-estimator:hover label.sk-toggleable__label-arrow:before {color: black;}#sk-container-id-1 div.sk-toggleable__content {max-height: 0;max-width: 0;overflow: hidden;text-align: left;background-color: #f0f8ff;}#sk-container-id-1 div.sk-toggleable__content pre {margin: 0.2em;color: black;border-radius: 0.25em;background-color: #f0f8ff;}#sk-container-id-1 input.sk-toggleable__control:checked~div.sk-toggleable__content {max-height: 200px;max-width: 100%;overflow: auto;}#sk-container-id-1 input.sk-toggleable__control:checked~label.sk-toggleable__label-arrow:before {content: \"▾\";}#sk-container-id-1 div.sk-estimator input.sk-toggleable__control:checked~label.sk-toggleable__label {background-color: #d4ebff;}#sk-container-id-1 div.sk-label input.sk-toggleable__control:checked~label.sk-toggleable__label {background-color: #d4ebff;}#sk-container-id-1 input.sk-hidden--visually {border: 0;clip: rect(1px 1px 1px 1px);clip: rect(1px, 1px, 1px, 1px);height: 1px;margin: -1px;overflow: hidden;padding: 0;position: absolute;width: 1px;}#sk-container-id-1 div.sk-estimator {font-family: monospace;background-color: #f0f8ff;border: 1px dotted black;border-radius: 0.25em;box-sizing: border-box;margin-bottom: 0.5em;}#sk-container-id-1 div.sk-estimator:hover {background-color: #d4ebff;}#sk-container-id-1 div.sk-parallel-item::after {content: \"\";width: 100%;border-bottom: 1px solid gray;flex-grow: 1;}#sk-container-id-1 div.sk-label:hover label.sk-toggleable__label {background-color: #d4ebff;}#sk-container-id-1 div.sk-serial::before {content: \"\";position: absolute;border-left: 1px solid gray;box-sizing: border-box;top: 0;bottom: 0;left: 50%;z-index: 0;}#sk-container-id-1 div.sk-serial {display: flex;flex-direction: column;align-items: center;background-color: white;padding-right: 0.2em;padding-left: 0.2em;position: relative;}#sk-container-id-1 div.sk-item {position: relative;z-index: 1;}#sk-container-id-1 div.sk-parallel {display: flex;align-items: stretch;justify-content: center;background-color: white;position: relative;}#sk-container-id-1 div.sk-item::before, #sk-container-id-1 div.sk-parallel-item::before {content: \"\";position: absolute;border-left: 1px solid gray;box-sizing: border-box;top: 0;bottom: 0;left: 50%;z-index: -1;}#sk-container-id-1 div.sk-parallel-item {display: flex;flex-direction: column;z-index: 1;position: relative;background-color: white;}#sk-container-id-1 div.sk-parallel-item:first-child::after {align-self: flex-end;width: 50%;}#sk-container-id-1 div.sk-parallel-item:last-child::after {align-self: flex-start;width: 50%;}#sk-container-id-1 div.sk-parallel-item:only-child::after {width: 0;}#sk-container-id-1 div.sk-dashed-wrapped {border: 1px dashed gray;margin: 0 0.4em 0.5em 0.4em;box-sizing: border-box;padding-bottom: 0.4em;background-color: white;}#sk-container-id-1 div.sk-label label {font-family: monospace;font-weight: bold;display: inline-block;line-height: 1.2em;}#sk-container-id-1 div.sk-label-container {text-align: center;}#sk-container-id-1 div.sk-container {/* jupyter's `normalize.less` sets `[hidden] { display: none; }` but bootstrap.min.css set `[hidden] { display: none !important; }` so we also need the `!important` here to be able to override the default hidden behavior on the sphinx rendered scikit-learn.org. See: https://github.com/scikit-learn/scikit-learn/issues/21755 */display: inline-block !important;position: relative;}#sk-container-id-1 div.sk-text-repr-fallback {display: none;}</style><div id=\"sk-container-id-1\" class=\"sk-top-container\"><div class=\"sk-text-repr-fallback\"><pre>LinearRegression()</pre><b>In a Jupyter environment, please rerun this cell to show the HTML representation or trust the notebook. <br />On GitHub, the HTML representation is unable to render, please try loading this page with nbviewer.org.</b></div><div class=\"sk-container\" hidden><div class=\"sk-item\"><div class=\"sk-estimator sk-toggleable\"><input class=\"sk-toggleable__control sk-hidden--visually\" id=\"sk-estimator-id-1\" type=\"checkbox\" checked><label for=\"sk-estimator-id-1\" class=\"sk-toggleable__label sk-toggleable__label-arrow\">LinearRegression</label><div class=\"sk-toggleable__content\"><pre>LinearRegression()</pre></div></div></div></div></div>"
            ]
          },
          "metadata": {},
          "execution_count": 8
        }
      ]
    },
    {
      "cell_type": "code",
      "source": [
        "linear_predictions = linear_model.predict(X_test)\n",
        "linear_mse = mean_squared_error(y_test, linear_predictions)\n",
        "print('Linear Regression Mean Squared Error:', linear_mse)"
      ],
      "metadata": {
        "colab": {
          "base_uri": "https://localhost:8080/"
        },
        "id": "41D3zw81Qddw",
        "outputId": "3b6f1629-ecc7-4570-d8ac-ad80b1dc7416"
      },
      "execution_count": null,
      "outputs": [
        {
          "output_type": "stream",
          "name": "stdout",
          "text": [
            "Linear Regression Mean Squared Error: 24.291119474973485\n"
          ]
        }
      ]
    },
    {
      "cell_type": "code",
      "source": [
        "scaler = StandardScaler()\n",
        "X_train_scaled = scaler.fit_transform(X_train)\n",
        "X_test_scaled = scaler.transform(X_test)"
      ],
      "metadata": {
        "id": "P9k9U_aYQgH8"
      },
      "execution_count": null,
      "outputs": []
    },
    {
      "cell_type": "code",
      "source": [
        "model = keras.Sequential([\n",
        "    keras.layers.Dense(64, activation='relu', input_shape=(X_train.shape[1],)),\n",
        "    keras.layers.Dense(64, activation='relu'),\n",
        "    keras.layers.Dense(1)\n",
        "])"
      ],
      "metadata": {
        "id": "WNrgMA0KQiN2"
      },
      "execution_count": null,
      "outputs": []
    },
    {
      "cell_type": "code",
      "source": [
        "model.compile(optimizer='adam', loss='mean_squared_error')"
      ],
      "metadata": {
        "id": "KrVzp-gHQkgl"
      },
      "execution_count": null,
      "outputs": []
    },
    {
      "cell_type": "code",
      "source": [
        "model.fit(X_train_scaled, y_train, epochs=100, batch_size=32, verbose=1)"
      ],
      "metadata": {
        "colab": {
          "base_uri": "https://localhost:8080/"
        },
        "id": "lvb-_zrhQmuB",
        "outputId": "a66fa2b2-2c2e-4ceb-fc90-5b9b707e66e4"
      },
      "execution_count": null,
      "outputs": [
        {
          "output_type": "stream",
          "name": "stdout",
          "text": [
            "Epoch 1/100\n",
            "13/13 [==============================] - 2s 6ms/step - loss: 597.7986\n",
            "Epoch 2/100\n",
            "13/13 [==============================] - 0s 4ms/step - loss: 544.5233\n",
            "Epoch 3/100\n",
            "13/13 [==============================] - 0s 5ms/step - loss: 479.8630\n",
            "Epoch 4/100\n",
            "13/13 [==============================] - 0s 3ms/step - loss: 396.1731\n",
            "Epoch 5/100\n",
            "13/13 [==============================] - 0s 7ms/step - loss: 288.2232\n",
            "Epoch 6/100\n",
            "13/13 [==============================] - 0s 7ms/step - loss: 182.7274\n",
            "Epoch 7/100\n",
            "13/13 [==============================] - 0s 8ms/step - loss: 102.3888\n",
            "Epoch 8/100\n",
            "13/13 [==============================] - 0s 13ms/step - loss: 64.8437\n",
            "Epoch 9/100\n",
            "13/13 [==============================] - 0s 7ms/step - loss: 46.7244\n",
            "Epoch 10/100\n",
            "13/13 [==============================] - 0s 8ms/step - loss: 35.2438\n",
            "Epoch 11/100\n",
            "13/13 [==============================] - 0s 6ms/step - loss: 28.6964\n",
            "Epoch 12/100\n",
            "13/13 [==============================] - 0s 4ms/step - loss: 25.0277\n",
            "Epoch 13/100\n",
            "13/13 [==============================] - 0s 3ms/step - loss: 22.8960\n",
            "Epoch 14/100\n",
            "13/13 [==============================] - 0s 4ms/step - loss: 21.5335\n",
            "Epoch 15/100\n",
            "13/13 [==============================] - 0s 9ms/step - loss: 20.3564\n",
            "Epoch 16/100\n",
            "13/13 [==============================] - 0s 8ms/step - loss: 19.4587\n",
            "Epoch 17/100\n",
            "13/13 [==============================] - 0s 3ms/step - loss: 18.7588\n",
            "Epoch 18/100\n",
            "13/13 [==============================] - 0s 3ms/step - loss: 18.0316\n",
            "Epoch 19/100\n",
            "13/13 [==============================] - 0s 5ms/step - loss: 17.4397\n",
            "Epoch 20/100\n",
            "13/13 [==============================] - 0s 4ms/step - loss: 16.8934\n",
            "Epoch 21/100\n",
            "13/13 [==============================] - 0s 9ms/step - loss: 16.4557\n",
            "Epoch 22/100\n",
            "13/13 [==============================] - 0s 3ms/step - loss: 15.9760\n",
            "Epoch 23/100\n",
            "13/13 [==============================] - 0s 5ms/step - loss: 15.5992\n",
            "Epoch 24/100\n",
            "13/13 [==============================] - 0s 3ms/step - loss: 15.2422\n",
            "Epoch 25/100\n",
            "13/13 [==============================] - 0s 3ms/step - loss: 14.9798\n",
            "Epoch 26/100\n",
            "13/13 [==============================] - 0s 5ms/step - loss: 14.6726\n",
            "Epoch 27/100\n",
            "13/13 [==============================] - 0s 7ms/step - loss: 14.2467\n",
            "Epoch 28/100\n",
            "13/13 [==============================] - 0s 9ms/step - loss: 14.0742\n",
            "Epoch 29/100\n",
            "13/13 [==============================] - 0s 8ms/step - loss: 13.8060\n",
            "Epoch 30/100\n",
            "13/13 [==============================] - 0s 8ms/step - loss: 13.5022\n",
            "Epoch 31/100\n",
            "13/13 [==============================] - 0s 8ms/step - loss: 13.2695\n",
            "Epoch 32/100\n",
            "13/13 [==============================] - 0s 10ms/step - loss: 13.0565\n",
            "Epoch 33/100\n",
            "13/13 [==============================] - 0s 8ms/step - loss: 12.8663\n",
            "Epoch 34/100\n",
            "13/13 [==============================] - 0s 4ms/step - loss: 12.7034\n",
            "Epoch 35/100\n",
            "13/13 [==============================] - 0s 10ms/step - loss: 12.5578\n",
            "Epoch 36/100\n",
            "13/13 [==============================] - 0s 10ms/step - loss: 12.2863\n",
            "Epoch 37/100\n",
            "13/13 [==============================] - 0s 5ms/step - loss: 12.1706\n",
            "Epoch 38/100\n",
            "13/13 [==============================] - 0s 4ms/step - loss: 12.0358\n",
            "Epoch 39/100\n",
            "13/13 [==============================] - 0s 3ms/step - loss: 11.8118\n",
            "Epoch 40/100\n",
            "13/13 [==============================] - 0s 2ms/step - loss: 11.6675\n",
            "Epoch 41/100\n",
            "13/13 [==============================] - 0s 4ms/step - loss: 11.4934\n",
            "Epoch 42/100\n",
            "13/13 [==============================] - 0s 3ms/step - loss: 11.5027\n",
            "Epoch 43/100\n",
            "13/13 [==============================] - 0s 4ms/step - loss: 11.2078\n",
            "Epoch 44/100\n",
            "13/13 [==============================] - 0s 3ms/step - loss: 11.1760\n",
            "Epoch 45/100\n",
            "13/13 [==============================] - 0s 5ms/step - loss: 11.1523\n",
            "Epoch 46/100\n",
            "13/13 [==============================] - 0s 8ms/step - loss: 10.8330\n",
            "Epoch 47/100\n",
            "13/13 [==============================] - 0s 6ms/step - loss: 10.8308\n",
            "Epoch 48/100\n",
            "13/13 [==============================] - 0s 8ms/step - loss: 10.7136\n",
            "Epoch 49/100\n",
            "13/13 [==============================] - 0s 7ms/step - loss: 10.5241\n",
            "Epoch 50/100\n",
            "13/13 [==============================] - 0s 5ms/step - loss: 10.3890\n",
            "Epoch 51/100\n",
            "13/13 [==============================] - 0s 4ms/step - loss: 10.3314\n",
            "Epoch 52/100\n",
            "13/13 [==============================] - 0s 5ms/step - loss: 10.5067\n",
            "Epoch 53/100\n",
            "13/13 [==============================] - 0s 5ms/step - loss: 10.1806\n",
            "Epoch 54/100\n",
            "13/13 [==============================] - 0s 5ms/step - loss: 10.1231\n",
            "Epoch 55/100\n",
            "13/13 [==============================] - 0s 5ms/step - loss: 9.9440\n",
            "Epoch 56/100\n",
            "13/13 [==============================] - 0s 7ms/step - loss: 9.8281\n",
            "Epoch 57/100\n",
            "13/13 [==============================] - 0s 10ms/step - loss: 9.7482\n",
            "Epoch 58/100\n",
            "13/13 [==============================] - 0s 8ms/step - loss: 9.6735\n",
            "Epoch 59/100\n",
            "13/13 [==============================] - 0s 8ms/step - loss: 9.6255\n",
            "Epoch 60/100\n",
            "13/13 [==============================] - 0s 16ms/step - loss: 9.5849\n",
            "Epoch 61/100\n",
            "13/13 [==============================] - 0s 16ms/step - loss: 9.4829\n",
            "Epoch 62/100\n",
            "13/13 [==============================] - 0s 15ms/step - loss: 9.4293\n",
            "Epoch 63/100\n",
            "13/13 [==============================] - 0s 16ms/step - loss: 9.3644\n",
            "Epoch 64/100\n",
            "13/13 [==============================] - 0s 13ms/step - loss: 9.2416\n",
            "Epoch 65/100\n",
            "13/13 [==============================] - 0s 14ms/step - loss: 9.2032\n",
            "Epoch 66/100\n",
            "13/13 [==============================] - 0s 9ms/step - loss: 9.1606\n",
            "Epoch 67/100\n",
            "13/13 [==============================] - 0s 8ms/step - loss: 9.0969\n",
            "Epoch 68/100\n",
            "13/13 [==============================] - 0s 18ms/step - loss: 9.0014\n",
            "Epoch 69/100\n",
            "13/13 [==============================] - 0s 15ms/step - loss: 8.9898\n",
            "Epoch 70/100\n",
            "13/13 [==============================] - 0s 9ms/step - loss: 8.8502\n",
            "Epoch 71/100\n",
            "13/13 [==============================] - 0s 8ms/step - loss: 8.8406\n",
            "Epoch 72/100\n",
            "13/13 [==============================] - 0s 10ms/step - loss: 8.7636\n",
            "Epoch 73/100\n",
            "13/13 [==============================] - 0s 7ms/step - loss: 8.6627\n",
            "Epoch 74/100\n",
            "13/13 [==============================] - 0s 6ms/step - loss: 8.6598\n",
            "Epoch 75/100\n",
            "13/13 [==============================] - 0s 10ms/step - loss: 8.5930\n",
            "Epoch 76/100\n",
            "13/13 [==============================] - 0s 7ms/step - loss: 8.4476\n",
            "Epoch 77/100\n",
            "13/13 [==============================] - 0s 8ms/step - loss: 8.4475\n",
            "Epoch 78/100\n",
            "13/13 [==============================] - 0s 17ms/step - loss: 8.7206\n",
            "Epoch 79/100\n",
            "13/13 [==============================] - 0s 17ms/step - loss: 8.6378\n",
            "Epoch 80/100\n",
            "13/13 [==============================] - 0s 8ms/step - loss: 8.2570\n",
            "Epoch 81/100\n",
            "13/13 [==============================] - 0s 9ms/step - loss: 8.2372\n",
            "Epoch 82/100\n",
            "13/13 [==============================] - 0s 6ms/step - loss: 8.1706\n",
            "Epoch 83/100\n",
            "13/13 [==============================] - 0s 5ms/step - loss: 8.0986\n",
            "Epoch 84/100\n",
            "13/13 [==============================] - 0s 7ms/step - loss: 7.9885\n",
            "Epoch 85/100\n",
            "13/13 [==============================] - 0s 7ms/step - loss: 8.0672\n",
            "Epoch 86/100\n",
            "13/13 [==============================] - 0s 6ms/step - loss: 8.0664\n",
            "Epoch 87/100\n",
            "13/13 [==============================] - 0s 7ms/step - loss: 7.8668\n",
            "Epoch 88/100\n",
            "13/13 [==============================] - 0s 4ms/step - loss: 7.7947\n",
            "Epoch 89/100\n",
            "13/13 [==============================] - 0s 7ms/step - loss: 7.8056\n",
            "Epoch 90/100\n",
            "13/13 [==============================] - 0s 7ms/step - loss: 7.7657\n",
            "Epoch 91/100\n",
            "13/13 [==============================] - 0s 3ms/step - loss: 7.6076\n",
            "Epoch 92/100\n",
            "13/13 [==============================] - 0s 5ms/step - loss: 7.6479\n",
            "Epoch 93/100\n",
            "13/13 [==============================] - 0s 5ms/step - loss: 7.5719\n",
            "Epoch 94/100\n",
            "13/13 [==============================] - 0s 4ms/step - loss: 7.5036\n",
            "Epoch 95/100\n",
            "13/13 [==============================] - 0s 4ms/step - loss: 7.4913\n",
            "Epoch 96/100\n",
            "13/13 [==============================] - 0s 4ms/step - loss: 7.4234\n",
            "Epoch 97/100\n",
            "13/13 [==============================] - 0s 11ms/step - loss: 7.3377\n",
            "Epoch 98/100\n",
            "13/13 [==============================] - 0s 4ms/step - loss: 7.3209\n",
            "Epoch 99/100\n",
            "13/13 [==============================] - 0s 8ms/step - loss: 7.2737\n",
            "Epoch 100/100\n",
            "13/13 [==============================] - 0s 7ms/step - loss: 7.1671\n"
          ]
        },
        {
          "output_type": "execute_result",
          "data": {
            "text/plain": [
              "<keras.callbacks.History at 0x7f9338d03a90>"
            ]
          },
          "metadata": {},
          "execution_count": 13
        }
      ]
    },
    {
      "cell_type": "code",
      "source": [
        "mse = model.evaluate(X_test_scaled, y_test)\n",
        "print('Deep Neural Network Mean Squared Error:', mse)"
      ],
      "metadata": {
        "colab": {
          "base_uri": "https://localhost:8080/"
        },
        "id": "1OyjHUK8QojF",
        "outputId": "89dd8b89-d6a5-464e-8cd9-bcbc77908d61"
      },
      "execution_count": null,
      "outputs": [
        {
          "output_type": "stream",
          "name": "stdout",
          "text": [
            "4/4 [==============================] - 0s 3ms/step - loss: 11.7790\n",
            "Deep Neural Network Mean Squared Error: 11.77895450592041\n"
          ]
        }
      ]
    },
    {
      "cell_type": "code",
      "source": [
        "predictions = model.predict(X_test_scaled)"
      ],
      "metadata": {
        "id": "YedqQddxQrh4",
        "outputId": "ba149eb9-6f1f-47e5-b167-df57ae158f54",
        "colab": {
          "base_uri": "https://localhost:8080/"
        }
      },
      "execution_count": null,
      "outputs": [
        {
          "output_type": "stream",
          "name": "stdout",
          "text": [
            "4/4 [==============================] - 0s 7ms/step\n"
          ]
        }
      ]
    },
    {
      "cell_type": "code",
      "source": [
        "for i in range(10):\n",
        "    print('Predicted Price:', predictions[i][0], 'Actual Price:', y_test[i])"
      ],
      "metadata": {
        "id": "iOuaJQDrSKbY",
        "outputId": "c64b5c51-a6f8-4ba8-c440-0ff27e24105a",
        "colab": {
          "base_uri": "https://localhost:8080/"
        }
      },
      "execution_count": null,
      "outputs": [
        {
          "output_type": "stream",
          "name": "stdout",
          "text": [
            "Predicted Price: 27.19233 Actual Price: 23.6\n",
            "Predicted Price: 34.014084 Actual Price: 32.4\n",
            "Predicted Price: 17.039371 Actual Price: 13.6\n",
            "Predicted Price: 26.57447 Actual Price: 22.8\n",
            "Predicted Price: 16.228455 Actual Price: 16.1\n",
            "Predicted Price: 20.105345 Actual Price: 20.0\n",
            "Predicted Price: 15.195358 Actual Price: 17.8\n",
            "Predicted Price: 14.151015 Actual Price: 14.0\n",
            "Predicted Price: 25.638496 Actual Price: 19.6\n",
            "Predicted Price: 17.342403 Actual Price: 16.8\n"
          ]
        }
      ]
    },
    {
      "cell_type": "code",
      "source": [],
      "metadata": {
        "id": "bFvNRnFsSNwz"
      },
      "execution_count": null,
      "outputs": []
    }
  ]
}